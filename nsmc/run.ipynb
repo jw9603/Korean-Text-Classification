{
  "nbformat": 4,
  "nbformat_minor": 0,
  "metadata": {
    "colab": {
      "provenance": [],
      "gpuType": "T4"
    },
    "kernelspec": {
      "name": "python3",
      "display_name": "Python 3"
    },
    "language_info": {
      "name": "python"
    },
    "accelerator": "GPU"
  },
  "cells": [
    {
      "cell_type": "code",
      "execution_count": 1,
      "metadata": {
        "colab": {
          "base_uri": "https://localhost:8080/"
        },
        "id": "AxvmEJfLHSoQ",
        "outputId": "cfd15a94-c86d-47d0-c2e4-9ad92562ed59"
      },
      "outputs": [
        {
          "output_type": "stream",
          "name": "stdout",
          "text": [
            "Drive already mounted at /content/drive; to attempt to forcibly remount, call drive.mount(\"/content/drive\", force_remount=True).\n"
          ]
        }
      ],
      "source": [
        "from google.colab import drive\n",
        "drive.mount('/content/drive')"
      ]
    },
    {
      "cell_type": "code",
      "source": [
        "%cd ./drive/MyDrive/text_classification/"
      ],
      "metadata": {
        "colab": {
          "base_uri": "https://localhost:8080/"
        },
        "id": "l6UKMDclHrlq",
        "outputId": "c3460020-17ec-46d1-99eb-3ce0f791dd6a"
      },
      "execution_count": 17,
      "outputs": [
        {
          "output_type": "stream",
          "name": "stdout",
          "text": [
            "[Errno 2] No such file or directory: './drive/MyDrive/text_classification/'\n",
            "/content/drive/MyDrive/text_classification\n"
          ]
        }
      ]
    },
    {
      "cell_type": "code",
      "source": [
        "!nvidia-smi"
      ],
      "metadata": {
        "colab": {
          "base_uri": "https://localhost:8080/"
        },
        "id": "c6KzVSy-H2kU",
        "outputId": "f010be93-6bd8-48bf-88e9-008a9c635ec5"
      },
      "execution_count": 3,
      "outputs": [
        {
          "output_type": "stream",
          "name": "stdout",
          "text": [
            "Fri Jan 31 07:44:22 2025       \n",
            "+-----------------------------------------------------------------------------------------+\n",
            "| NVIDIA-SMI 550.54.15              Driver Version: 550.54.15      CUDA Version: 12.4     |\n",
            "|-----------------------------------------+------------------------+----------------------+\n",
            "| GPU  Name                 Persistence-M | Bus-Id          Disp.A | Volatile Uncorr. ECC |\n",
            "| Fan  Temp   Perf          Pwr:Usage/Cap |           Memory-Usage | GPU-Util  Compute M. |\n",
            "|                                         |                        |               MIG M. |\n",
            "|=========================================+========================+======================|\n",
            "|   0  Tesla T4                       Off |   00000000:00:04.0 Off |                    0 |\n",
            "| N/A   41C    P8             11W /   70W |       0MiB /  15360MiB |      0%      Default |\n",
            "|                                         |                        |                  N/A |\n",
            "+-----------------------------------------+------------------------+----------------------+\n",
            "                                                                                         \n",
            "+-----------------------------------------------------------------------------------------+\n",
            "| Processes:                                                                              |\n",
            "|  GPU   GI   CI        PID   Type   Process name                              GPU Memory |\n",
            "|        ID   ID                                                               Usage      |\n",
            "|=========================================================================================|\n",
            "|  No running processes found                                                             |\n",
            "+-----------------------------------------------------------------------------------------+\n"
          ]
        }
      ]
    },
    {
      "cell_type": "markdown",
      "source": [
        "### 0. Dependencies"
      ],
      "metadata": {
        "id": "YWfPBt90SkYI"
      }
    },
    {
      "cell_type": "code",
      "source": [
        "!pip uninstall torch torchvision torchaudio -y"
      ],
      "metadata": {
        "id": "v_y3VD9TR6M5",
        "colab": {
          "base_uri": "https://localhost:8080/"
        },
        "outputId": "ddf2bc25-ce16-46fc-b16c-a88ca8dca766"
      },
      "execution_count": 6,
      "outputs": [
        {
          "output_type": "stream",
          "name": "stdout",
          "text": [
            "Found existing installation: torch 2.6.0\n",
            "Uninstalling torch-2.6.0:\n",
            "  Successfully uninstalled torch-2.6.0\n",
            "Found existing installation: torchvision 0.15.1+cu118\n",
            "Uninstalling torchvision-0.15.1+cu118:\n",
            "  Successfully uninstalled torchvision-0.15.1+cu118\n",
            "Found existing installation: torchaudio 2.0.1+cu118\n",
            "Uninstalling torchaudio-2.0.1+cu118:\n",
            "  Successfully uninstalled torchaudio-2.0.1+cu118\n"
          ]
        }
      ]
    },
    {
      "cell_type": "code",
      "source": [
        "!pip install torch==2.0.0 torchvision==0.15.1 torchaudio==2.0.1 --index-url https://download.pytorch.org/whl/cu118"
      ],
      "metadata": {
        "id": "TDd-vzVMR9XA",
        "colab": {
          "base_uri": "https://localhost:8080/",
          "height": 690
        },
        "outputId": "7a1a717e-dfac-46d9-b691-62a0e3f1ee63"
      },
      "execution_count": 7,
      "outputs": [
        {
          "output_type": "stream",
          "name": "stdout",
          "text": [
            "Looking in indexes: https://download.pytorch.org/whl/cu118\n",
            "Collecting torch==2.0.0\n",
            "  Using cached https://download.pytorch.org/whl/cu118/torch-2.0.0%2Bcu118-cp311-cp311-linux_x86_64.whl (2267.3 MB)\n",
            "Collecting torchvision==0.15.1\n",
            "  Using cached https://download.pytorch.org/whl/cu118/torchvision-0.15.1%2Bcu118-cp311-cp311-linux_x86_64.whl (6.1 MB)\n",
            "Collecting torchaudio==2.0.1\n",
            "  Using cached https://download.pytorch.org/whl/cu118/torchaudio-2.0.1%2Bcu118-cp311-cp311-linux_x86_64.whl (4.4 MB)\n",
            "Requirement already satisfied: filelock in /usr/local/lib/python3.11/dist-packages (from torch==2.0.0) (3.17.0)\n",
            "Requirement already satisfied: typing-extensions in /usr/local/lib/python3.11/dist-packages (from torch==2.0.0) (4.12.2)\n",
            "Requirement already satisfied: sympy in /usr/local/lib/python3.11/dist-packages (from torch==2.0.0) (1.13.1)\n",
            "Requirement already satisfied: networkx in /usr/local/lib/python3.11/dist-packages (from torch==2.0.0) (3.4.2)\n",
            "Requirement already satisfied: jinja2 in /usr/local/lib/python3.11/dist-packages (from torch==2.0.0) (3.1.5)\n",
            "Collecting triton==2.0.0 (from torch==2.0.0)\n",
            "  Using cached https://download.pytorch.org/whl/triton-2.0.0-1-cp311-cp311-manylinux2014_x86_64.manylinux_2_17_x86_64.whl (63.3 MB)\n",
            "Requirement already satisfied: numpy in /usr/local/lib/python3.11/dist-packages (from torchvision==0.15.1) (1.26.4)\n",
            "Requirement already satisfied: requests in /usr/local/lib/python3.11/dist-packages (from torchvision==0.15.1) (2.32.3)\n",
            "Requirement already satisfied: pillow!=8.3.*,>=5.3.0 in /usr/local/lib/python3.11/dist-packages (from torchvision==0.15.1) (11.1.0)\n",
            "Requirement already satisfied: cmake in /usr/local/lib/python3.11/dist-packages (from triton==2.0.0->torch==2.0.0) (3.31.4)\n",
            "Requirement already satisfied: lit in /usr/local/lib/python3.11/dist-packages (from triton==2.0.0->torch==2.0.0) (15.0.7)\n",
            "Requirement already satisfied: MarkupSafe>=2.0 in /usr/local/lib/python3.11/dist-packages (from jinja2->torch==2.0.0) (3.0.2)\n",
            "Requirement already satisfied: charset-normalizer<4,>=2 in /usr/local/lib/python3.11/dist-packages (from requests->torchvision==0.15.1) (3.4.1)\n",
            "Requirement already satisfied: idna<4,>=2.5 in /usr/local/lib/python3.11/dist-packages (from requests->torchvision==0.15.1) (3.10)\n",
            "Requirement already satisfied: urllib3<3,>=1.21.1 in /usr/local/lib/python3.11/dist-packages (from requests->torchvision==0.15.1) (2.3.0)\n",
            "Requirement already satisfied: certifi>=2017.4.17 in /usr/local/lib/python3.11/dist-packages (from requests->torchvision==0.15.1) (2024.12.14)\n",
            "Requirement already satisfied: mpmath<1.4,>=1.1.0 in /usr/local/lib/python3.11/dist-packages (from sympy->torch==2.0.0) (1.3.0)\n",
            "Installing collected packages: triton, torch, torchvision, torchaudio\n",
            "  Attempting uninstall: triton\n",
            "    Found existing installation: triton 3.2.0\n",
            "    Uninstalling triton-3.2.0:\n",
            "      Successfully uninstalled triton-3.2.0\n",
            "Successfully installed torch-2.0.0+cu118 torchaudio-2.0.1+cu118 torchvision-0.15.1+cu118 triton-2.0.0\n"
          ]
        },
        {
          "output_type": "display_data",
          "data": {
            "application/vnd.colab-display-data+json": {
              "pip_warning": {
                "packages": [
                  "torch",
                  "torchgen"
                ]
              },
              "id": "92d9b6f75c5649ecafdb5a4853da2911"
            }
          },
          "metadata": {}
        }
      ]
    },
    {
      "cell_type": "code",
      "source": [
        "import torch\n",
        "print(torch.__version__)"
      ],
      "metadata": {
        "id": "b3Y-LLt9R-20",
        "colab": {
          "base_uri": "https://localhost:8080/"
        },
        "outputId": "a3370dee-dd87-4e1a-df29-9580d16b4826"
      },
      "execution_count": 4,
      "outputs": [
        {
          "output_type": "stream",
          "name": "stdout",
          "text": [
            "2.0.0+cu118\n"
          ]
        }
      ]
    },
    {
      "cell_type": "code",
      "source": [
        "!pip install pytorch-ignite"
      ],
      "metadata": {
        "colab": {
          "base_uri": "https://localhost:8080/"
        },
        "id": "xUFyWhQnIzH-",
        "outputId": "e0e5f05e-a743-49a0-ef66-a2f85a34281d"
      },
      "execution_count": 5,
      "outputs": [
        {
          "output_type": "stream",
          "name": "stdout",
          "text": [
            "Requirement already satisfied: pytorch-ignite in /usr/local/lib/python3.11/dist-packages (0.5.1)\n",
            "Requirement already satisfied: torch<3,>=1.3 in /usr/local/lib/python3.11/dist-packages (from pytorch-ignite) (2.0.0+cu118)\n",
            "Requirement already satisfied: packaging in /usr/local/lib/python3.11/dist-packages (from pytorch-ignite) (24.2)\n",
            "Requirement already satisfied: filelock in /usr/local/lib/python3.11/dist-packages (from torch<3,>=1.3->pytorch-ignite) (3.17.0)\n",
            "Requirement already satisfied: typing-extensions in /usr/local/lib/python3.11/dist-packages (from torch<3,>=1.3->pytorch-ignite) (4.12.2)\n",
            "Requirement already satisfied: sympy in /usr/local/lib/python3.11/dist-packages (from torch<3,>=1.3->pytorch-ignite) (1.13.1)\n",
            "Requirement already satisfied: networkx in /usr/local/lib/python3.11/dist-packages (from torch<3,>=1.3->pytorch-ignite) (3.4.2)\n",
            "Requirement already satisfied: jinja2 in /usr/local/lib/python3.11/dist-packages (from torch<3,>=1.3->pytorch-ignite) (3.1.5)\n",
            "Requirement already satisfied: triton==2.0.0 in /usr/local/lib/python3.11/dist-packages (from torch<3,>=1.3->pytorch-ignite) (2.0.0)\n",
            "Requirement already satisfied: cmake in /usr/local/lib/python3.11/dist-packages (from triton==2.0.0->torch<3,>=1.3->pytorch-ignite) (3.31.4)\n",
            "Requirement already satisfied: lit in /usr/local/lib/python3.11/dist-packages (from triton==2.0.0->torch<3,>=1.3->pytorch-ignite) (15.0.7)\n",
            "Requirement already satisfied: MarkupSafe>=2.0 in /usr/local/lib/python3.11/dist-packages (from jinja2->torch<3,>=1.3->pytorch-ignite) (3.0.2)\n",
            "Requirement already satisfied: mpmath<1.4,>=1.1.0 in /usr/local/lib/python3.11/dist-packages (from sympy->torch<3,>=1.3->pytorch-ignite) (1.3.0)\n"
          ]
        }
      ]
    },
    {
      "cell_type": "code",
      "source": [
        "!pip install torchtext==0.6.0"
      ],
      "metadata": {
        "colab": {
          "base_uri": "https://localhost:8080/"
        },
        "id": "Tqb2HHUlM09H",
        "outputId": "87a1c232-e916-4aa7-c6f1-a61bd4a0b14d"
      },
      "execution_count": 6,
      "outputs": [
        {
          "output_type": "stream",
          "name": "stdout",
          "text": [
            "Requirement already satisfied: torchtext==0.6.0 in /usr/local/lib/python3.11/dist-packages (0.6.0)\n",
            "Requirement already satisfied: tqdm in /usr/local/lib/python3.11/dist-packages (from torchtext==0.6.0) (4.67.1)\n",
            "Requirement already satisfied: requests in /usr/local/lib/python3.11/dist-packages (from torchtext==0.6.0) (2.32.3)\n",
            "Requirement already satisfied: torch in /usr/local/lib/python3.11/dist-packages (from torchtext==0.6.0) (2.0.0+cu118)\n",
            "Requirement already satisfied: numpy in /usr/local/lib/python3.11/dist-packages (from torchtext==0.6.0) (1.26.4)\n",
            "Requirement already satisfied: six in /usr/local/lib/python3.11/dist-packages (from torchtext==0.6.0) (1.17.0)\n",
            "Requirement already satisfied: sentencepiece in /usr/local/lib/python3.11/dist-packages (from torchtext==0.6.0) (0.2.0)\n",
            "Requirement already satisfied: charset-normalizer<4,>=2 in /usr/local/lib/python3.11/dist-packages (from requests->torchtext==0.6.0) (3.4.1)\n",
            "Requirement already satisfied: idna<4,>=2.5 in /usr/local/lib/python3.11/dist-packages (from requests->torchtext==0.6.0) (3.10)\n",
            "Requirement already satisfied: urllib3<3,>=1.21.1 in /usr/local/lib/python3.11/dist-packages (from requests->torchtext==0.6.0) (2.3.0)\n",
            "Requirement already satisfied: certifi>=2017.4.17 in /usr/local/lib/python3.11/dist-packages (from requests->torchtext==0.6.0) (2024.12.14)\n",
            "Requirement already satisfied: filelock in /usr/local/lib/python3.11/dist-packages (from torch->torchtext==0.6.0) (3.17.0)\n",
            "Requirement already satisfied: typing-extensions in /usr/local/lib/python3.11/dist-packages (from torch->torchtext==0.6.0) (4.12.2)\n",
            "Requirement already satisfied: sympy in /usr/local/lib/python3.11/dist-packages (from torch->torchtext==0.6.0) (1.13.1)\n",
            "Requirement already satisfied: networkx in /usr/local/lib/python3.11/dist-packages (from torch->torchtext==0.6.0) (3.4.2)\n",
            "Requirement already satisfied: jinja2 in /usr/local/lib/python3.11/dist-packages (from torch->torchtext==0.6.0) (3.1.5)\n",
            "Requirement already satisfied: triton==2.0.0 in /usr/local/lib/python3.11/dist-packages (from torch->torchtext==0.6.0) (2.0.0)\n",
            "Requirement already satisfied: cmake in /usr/local/lib/python3.11/dist-packages (from triton==2.0.0->torch->torchtext==0.6.0) (3.31.4)\n",
            "Requirement already satisfied: lit in /usr/local/lib/python3.11/dist-packages (from triton==2.0.0->torch->torchtext==0.6.0) (15.0.7)\n",
            "Requirement already satisfied: MarkupSafe>=2.0 in /usr/local/lib/python3.11/dist-packages (from jinja2->torch->torchtext==0.6.0) (3.0.2)\n",
            "Requirement already satisfied: mpmath<1.4,>=1.1.0 in /usr/local/lib/python3.11/dist-packages (from sympy->torch->torchtext==0.6.0) (1.3.0)\n"
          ]
        }
      ]
    },
    {
      "cell_type": "markdown",
      "source": [
        "### Train"
      ],
      "metadata": {
        "id": "rPlekI9_Snoq"
      }
    },
    {
      "cell_type": "code",
      "source": [
        "!bash run.sh"
      ],
      "metadata": {
        "colab": {
          "base_uri": "https://localhost:8080/"
        },
        "id": "qLXUKHa3K8Rq",
        "outputId": "74a46810-651b-4d92-ba15-8b8914514dd5"
      },
      "execution_count": null,
      "outputs": [
        {
          "output_type": "stream",
          "name": "stdout",
          "text": [
            "mkdir: cannot create directory ‘./result_model’: File exists\n",
            "|train| = 151992 |valid| = 37998\n",
            "|vocab| = 16208 |classes| = 2\n",
            "RNNClassifier(\n",
            "  (emb): Embedding(16208, 256)\n",
            "  (rnn): LSTM(256, 512, num_layers=4, batch_first=True, dropout=0.3, bidirectional=True)\n",
            "  (generator): Linear(in_features=1024, out_features=2, bias=True)\n",
            "  (act): LogSoftmax(dim=-1)\n",
            ")\n",
            "Epoch 1 - |param| = 2.04e+03 loss = 3.2977e-01 accuracy = 0.8560\n",
            "Validation - loss = 3.5291e-01 accuracy = 0.8414 best_loss = inf\n",
            "Epoch 2 - |param| = 2.05e+03 loss = 2.7613e-01 accuracy = 0.8850\n",
            "Validation - loss = 2.6460e-01 accuracy = 0.8893 best_loss = 3.5291e-01\n",
            "Epoch 3 - |param| = 2.06e+03 loss = 2.2824e-01 accuracy = 0.9067\n",
            "Validation - loss = 2.6412e-01 accuracy = 0.8902 best_loss = 2.6460e-01\n",
            "Epoch 4 - |param| = 2.06e+03 loss = 1.8656e-01 accuracy = 0.9278\n",
            "Validation - loss = 2.7876e-01 accuracy = 0.8941 best_loss = 2.6412e-01\n",
            "Epoch 5 - |param| = 2.07e+03 loss = 1.3656e-01 accuracy = 0.9490\n",
            "Validation - loss = 3.6728e-01 accuracy = 0.8879 best_loss = 2.6412e-01\n",
            "Epoch 6 - |param| = 2.08e+03 loss = 9.3071e-02 accuracy = 0.9665\n",
            "Validation - loss = 4.0021e-01 accuracy = 0.8896 best_loss = 2.6412e-01\n",
            "Epoch 7 - |param| = 2.08e+03 loss = 7.1938e-02 accuracy = 0.9741\n",
            "Validation - loss = 4.6401e-01 accuracy = 0.8877 best_loss = 2.6412e-01\n",
            "Epoch 8 - |param| = 2.09e+03 loss = 5.9956e-02 accuracy = 0.9796\n",
            "Validation - loss = 5.1245e-01 accuracy = 0.8885 best_loss = 2.6412e-01\n",
            "Epoch 9 - |param| = 2.09e+03 loss = 5.2614e-02 accuracy = 0.9802\n",
            "Validation - loss = 5.2480e-01 accuracy = 0.8842 best_loss = 2.6412e-01\n",
            "Epoch 10 - |param| = 2.10e+03 loss = 4.6224e-02 accuracy = 0.9822\n",
            "Validation - loss = 4.8946e-01 accuracy = 0.8876 best_loss = 2.6412e-01\n",
            "CNNClassifier(\n",
            "  (emb): Embedding(16208, 256)\n",
            "  (feature_extractors): ModuleList(\n",
            "    (0): Sequential(\n",
            "      (0): Conv2d(1, 128, kernel_size=(3, 256), stride=(1, 1))\n",
            "      (1): ReLU()\n",
            "      (2): Dropout(p=0.3, inplace=False)\n",
            "    )\n",
            "    (1): Sequential(\n",
            "      (0): Conv2d(1, 128, kernel_size=(4, 256), stride=(1, 1))\n",
            "      (1): ReLU()\n",
            "      (2): Dropout(p=0.3, inplace=False)\n",
            "    )\n",
            "    (2): Sequential(\n",
            "      (0): Conv2d(1, 128, kernel_size=(5, 256), stride=(1, 1))\n",
            "      (1): ReLU()\n",
            "      (2): Dropout(p=0.3, inplace=False)\n",
            "    )\n",
            "    (3): Sequential(\n",
            "      (0): Conv2d(1, 128, kernel_size=(6, 256), stride=(1, 1))\n",
            "      (1): ReLU()\n",
            "      (2): Dropout(p=0.3, inplace=False)\n",
            "    )\n",
            "    (4): Sequential(\n",
            "      (0): Conv2d(1, 128, kernel_size=(7, 256), stride=(1, 1))\n",
            "      (1): ReLU()\n",
            "      (2): Dropout(p=0.3, inplace=False)\n",
            "    )\n",
            "  )\n",
            "  (generator): Linear(in_features=640, out_features=2, bias=True)\n",
            "  (act): LogSoftmax(dim=-1)\n",
            ")\n",
            "Epoch 1 - |param| = 2.04e+03 loss = 3.9415e-01 accuracy = 0.8228\n",
            "Validation - loss = 6.0839e-01 accuracy = 0.6858 best_loss = inf\n",
            "Epoch 2 - |param| = 2.04e+03 loss = 3.3502e-01 accuracy = 0.8616\n",
            "Validation - loss = 3.2199e-01 accuracy = 0.8619 best_loss = 6.0839e-01\n",
            "Epoch 3 - |param| = 2.04e+03 loss = 2.8113e-01 accuracy = 0.8830\n",
            "Validation - loss = 4.0036e-01 accuracy = 0.8269 best_loss = 3.2199e-01\n",
            "Epoch 4 - |param| = 2.04e+03 loss = 2.1363e-01 accuracy = 0.9082\n",
            "Validation - loss = 3.3456e-01 accuracy = 0.8651 best_loss = 3.2199e-01\n",
            "Epoch 5 - |param| = 2.05e+03 loss = 2.7134e-01 accuracy = 0.9032\n",
            "Validation - loss = 4.4202e-01 accuracy = 0.8605 best_loss = 3.2199e-01\n",
            "Epoch 6 - |param| = 2.05e+03 loss = 2.0506e-01 accuracy = 0.9267\n",
            "Validation - loss = 4.6773e-01 accuracy = 0.8648 best_loss = 3.2199e-01\n",
            "Epoch 7 - |param| = 2.05e+03 loss = 1.3031e-01 accuracy = 0.9548\n",
            "Validation - loss = 5.7026e-01 accuracy = 0.8491 best_loss = 3.2199e-01\n",
            "Epoch 8 - |param| = 2.05e+03 loss = 1.1749e-01 accuracy = 0.9572\n",
            "Validation - loss = 7.2327e-01 accuracy = 0.8455 best_loss = 3.2199e-01\n",
            "Epoch 9 - |param| = 2.06e+03 loss = 8.1072e-02 accuracy = 0.9707\n",
            "Validation - loss = 6.1803e-01 accuracy = 0.8622 best_loss = 3.2199e-01\n",
            "Epoch 10 - |param| = 2.06e+03 loss = 1.1741e-01 accuracy = 0.9590\n",
            "Validation - loss = 7.5296e-01 accuracy = 0.8556 best_loss = 3.2199e-01\n"
          ]
        }
      ]
    },
    {
      "cell_type": "code",
      "source": [
        "!bash run_cnn.sh"
      ],
      "metadata": {
        "colab": {
          "base_uri": "https://localhost:8080/"
        },
        "id": "mLKelnhjTE9W",
        "outputId": "9e729e16-dfe9-470f-fbac-98dc26f3151c"
      },
      "execution_count": 7,
      "outputs": [
        {
          "output_type": "stream",
          "name": "stdout",
          "text": [
            "|train| = 151992 |valid| = 37998\n",
            "|vocab| = 16197 |classes| = 2\n",
            "CNNClassifier(\n",
            "  (emb): Embedding(16197, 256)\n",
            "  (feature_extractors): ModuleList(\n",
            "    (0): Sequential(\n",
            "      (0): Conv2d(1, 128, kernel_size=(3, 256), stride=(1, 1))\n",
            "      (1): ReLU()\n",
            "      (2): Dropout(p=0.3, inplace=False)\n",
            "    )\n",
            "    (1): Sequential(\n",
            "      (0): Conv2d(1, 128, kernel_size=(4, 256), stride=(1, 1))\n",
            "      (1): ReLU()\n",
            "      (2): Dropout(p=0.3, inplace=False)\n",
            "    )\n",
            "    (2): Sequential(\n",
            "      (0): Conv2d(1, 128, kernel_size=(5, 256), stride=(1, 1))\n",
            "      (1): ReLU()\n",
            "      (2): Dropout(p=0.3, inplace=False)\n",
            "    )\n",
            "    (3): Sequential(\n",
            "      (0): Conv2d(1, 128, kernel_size=(6, 256), stride=(1, 1))\n",
            "      (1): ReLU()\n",
            "      (2): Dropout(p=0.3, inplace=False)\n",
            "    )\n",
            "    (4): Sequential(\n",
            "      (0): Conv2d(1, 128, kernel_size=(7, 256), stride=(1, 1))\n",
            "      (1): ReLU()\n",
            "      (2): Dropout(p=0.3, inplace=False)\n",
            "    )\n",
            "  )\n",
            "  (generator): Linear(in_features=640, out_features=2, bias=True)\n",
            "  (act): LogSoftmax(dim=-1)\n",
            ")\n",
            "Epoch 1 - |param| = 2.04e+03 loss = 3.6849e-01 accuracy = 0.8345\n",
            "Validation - loss = 3.4857e-01 accuracy = 0.8498 best_loss = inf\n",
            "Epoch 2 - |param| = 2.04e+03 loss = 3.4411e-01 accuracy = 0.8594\n",
            "Validation - loss = 3.2614e-01 accuracy = 0.8565 best_loss = 3.4857e-01\n",
            "Epoch 3 - |param| = 2.04e+03 loss = 2.6890e-01 accuracy = 0.8877\n",
            "Validation - loss = 2.9921e-01 accuracy = 0.8697 best_loss = 3.2614e-01\n",
            "Epoch 4 - |param| = 2.04e+03 loss = 2.1624e-01 accuracy = 0.9113\n",
            "Validation - loss = 3.4836e-01 accuracy = 0.8554 best_loss = 2.9921e-01\n",
            "Epoch 5 - |param| = 2.05e+03 loss = 1.7334e-01 accuracy = 0.9311\n",
            "Validation - loss = 4.1576e-01 accuracy = 0.8558 best_loss = 2.9921e-01\n",
            "Epoch 6 - |param| = 2.05e+03 loss = 1.5234e-01 accuracy = 0.9427\n",
            "Validation - loss = 4.7586e-01 accuracy = 0.8587 best_loss = 2.9921e-01\n",
            "Epoch 7 - |param| = 2.05e+03 loss = 1.0953e-01 accuracy = 0.9561\n",
            "Validation - loss = 5.1411e-01 accuracy = 0.8602 best_loss = 2.9921e-01\n",
            "Epoch 8 - |param| = 2.05e+03 loss = 9.4962e-02 accuracy = 0.9639\n",
            "Validation - loss = 5.8638e-01 accuracy = 0.8557 best_loss = 2.9921e-01\n",
            "Epoch 9 - |param| = 2.05e+03 loss = 9.4241e-02 accuracy = 0.9655\n",
            "Validation - loss = 7.6531e-01 accuracy = 0.8362 best_loss = 2.9921e-01\n",
            "Epoch 10 - |param| = 2.06e+03 loss = 3.4922e-01 accuracy = 0.9232\n",
            "Validation - loss = 9.1124e-01 accuracy = 0.8541 best_loss = 2.9921e-01\n"
          ]
        }
      ]
    },
    {
      "cell_type": "code",
      "source": [
        "!bash run_rnn.sh"
      ],
      "metadata": {
        "colab": {
          "base_uri": "https://localhost:8080/"
        },
        "id": "rB6VCKgkTLBH",
        "outputId": "3f07e693-957e-4e9f-b442-3530c0b41922"
      },
      "execution_count": 10,
      "outputs": [
        {
          "output_type": "stream",
          "name": "stdout",
          "text": [
            "|train| = 151992 |valid| = 37998\n",
            "|vocab| = 16146 |classes| = 2\n",
            "RNNClassifier(\n",
            "  (emb): Embedding(16146, 256)\n",
            "  (rnn): LSTM(256, 512, num_layers=4, batch_first=True, dropout=0.3, bidirectional=True)\n",
            "  (generator): Linear(in_features=1024, out_features=2, bias=True)\n",
            "  (act): LogSoftmax(dim=-1)\n",
            ")\n",
            "Epoch 1 - |param| = 2.04e+03 loss = 3.3395e-01 accuracy = 0.8542\n",
            "Validation - loss = 3.0610e-01 accuracy = 0.8732 best_loss = inf\n",
            "Epoch 2 - |param| = 2.04e+03 loss = 2.8204e-01 accuracy = 0.8798\n",
            "Validation - loss = 2.6792e-01 accuracy = 0.8853 best_loss = 3.0610e-01\n",
            "Epoch 3 - |param| = 2.05e+03 loss = 2.3789e-01 accuracy = 0.9035\n",
            "Validation - loss = 2.8468e-01 accuracy = 0.8829 best_loss = 2.6792e-01\n",
            "Epoch 4 - |param| = 2.06e+03 loss = 1.7149e-01 accuracy = 0.9311\n",
            "Validation - loss = 2.9266e-01 accuracy = 0.8863 best_loss = 2.6792e-01\n",
            "Epoch 5 - |param| = 2.06e+03 loss = 1.3476e-01 accuracy = 0.9479\n",
            "Validation - loss = 3.3527e-01 accuracy = 0.8867 best_loss = 2.6792e-01\n",
            "Epoch 6 - |param| = 2.07e+03 loss = 8.4069e-02 accuracy = 0.9708\n",
            "Validation - loss = 4.0544e-01 accuracy = 0.8874 best_loss = 2.6792e-01\n",
            "Epoch 7 - |param| = 2.08e+03 loss = 7.4743e-02 accuracy = 0.9746\n",
            "Validation - loss = 4.4377e-01 accuracy = 0.8848 best_loss = 2.6792e-01\n",
            "Epoch 8 - |param| = 2.08e+03 loss = 5.7847e-02 accuracy = 0.9804\n",
            "Validation - loss = 4.8927e-01 accuracy = 0.8882 best_loss = 2.6792e-01\n",
            "Epoch 9 - |param| = 2.09e+03 loss = 5.3109e-02 accuracy = 0.9814\n",
            "Validation - loss = 4.8974e-01 accuracy = 0.8830 best_loss = 2.6792e-01\n",
            "Epoch 10 - |param| = 2.09e+03 loss = 4.4072e-02 accuracy = 0.9844\n",
            "Validation - loss = 5.4166e-01 accuracy = 0.8852 best_loss = 2.6792e-01\n"
          ]
        }
      ]
    },
    {
      "cell_type": "markdown",
      "source": [
        "### Eval"
      ],
      "metadata": {
        "id": "8HCy1tJcSpS8"
      }
    },
    {
      "cell_type": "code",
      "source": [
        "!bash eval_ensemble.sh"
      ],
      "metadata": {
        "colab": {
          "base_uri": "https://localhost:8080/"
        },
        "id": "qkW1wst-SqDv",
        "outputId": "eaf77668-550d-4128-c8f4-9fec800982b1"
      },
      "execution_count": 22,
      "outputs": [
        {
          "output_type": "stream",
          "name": "stdout",
          "text": [
            "saved_data: {'rnn': OrderedDict([('emb.weight', tensor([[-0.3572,  1.0028,  0.8297,  ...,  0.3278,  0.8536,  0.7486],\n",
            "        [ 0.5964, -1.8110,  2.2540,  ...,  0.6216, -0.4905,  0.5112],\n",
            "        [ 0.1412,  0.5478, -1.9831,  ...,  0.1419, -1.0021,  1.3867],\n",
            "        ...,\n",
            "        [-0.0541,  1.5289,  1.7415,  ..., -1.1676,  0.3380, -0.5042],\n",
            "        [-0.6128, -1.2438, -0.0971,  ...,  1.1396,  1.0128, -0.0806],\n",
            "        [-1.8655,  0.0743, -0.4240,  ...,  0.2207, -0.0313, -1.3284]],\n",
            "       device='cuda:0')), ('rnn.weight_ih_l0', tensor([[ 0.0335, -0.0636, -0.0091,  ..., -0.0176, -0.0437,  0.0267],\n",
            "        [ 0.0486,  0.0095, -0.0501,  ..., -0.0320, -0.0051,  0.0181],\n",
            "        [-0.0050, -0.0488, -0.0302,  ..., -0.0362,  0.0033, -0.0097],\n",
            "        ...,\n",
            "        [ 0.0425, -0.0981,  0.0030,  ..., -0.0060, -0.0022,  0.0326],\n",
            "        [-0.0149, -0.0364, -0.0529,  ...,  0.0662,  0.0805, -0.0824],\n",
            "        [-0.1013,  0.0019,  0.0686,  ..., -0.0435,  0.0016, -0.1738]],\n",
            "       device='cuda:0')), ('rnn.weight_hh_l0', tensor([[ 0.0874,  0.0044,  0.0624,  ...,  0.0023, -0.0693,  0.0110],\n",
            "        [ 0.0575, -0.0149,  0.0165,  ..., -0.0553, -0.0615, -0.0689],\n",
            "        [-0.0118,  0.0653, -0.0719,  ...,  0.0355,  0.0100, -0.0311],\n",
            "        ...,\n",
            "        [-0.0395, -0.0755,  0.0485,  ...,  0.0763,  0.0556,  0.0240],\n",
            "        [ 0.0144, -0.0219,  0.0256,  ...,  0.0283,  0.0058, -0.0018],\n",
            "        [-0.0141, -0.0264, -0.0617,  ...,  0.0539,  0.0647,  0.0017]],\n",
            "       device='cuda:0')), ('rnn.bias_ih_l0', tensor([-0.0315, -0.1082, -0.0453,  ..., -0.0363, -0.0495, -0.0339],\n",
            "       device='cuda:0')), ('rnn.bias_hh_l0', tensor([-0.0564, -0.0684, -0.0821,  ..., -0.0631, -0.0536, -0.0501],\n",
            "       device='cuda:0')), ('rnn.weight_ih_l0_reverse', tensor([[-0.0515, -0.0504,  0.1181,  ...,  0.0212,  0.0800, -0.0407],\n",
            "        [ 0.0061,  0.1006,  0.0564,  ..., -0.0584, -0.0053,  0.0260],\n",
            "        [ 0.0311, -0.0791,  0.0310,  ...,  0.1434,  0.0956,  0.1252],\n",
            "        ...,\n",
            "        [ 0.0616, -0.0026, -0.0790,  ..., -0.0706, -0.0920, -0.0731],\n",
            "        [ 0.1829,  0.0022, -0.0070,  ...,  0.1680,  0.0512, -0.1335],\n",
            "        [ 0.0881,  0.1104,  0.0882,  ...,  0.0427, -0.0861, -0.0156]],\n",
            "       device='cuda:0')), ('rnn.weight_hh_l0_reverse', tensor([[ 0.0949,  0.0617,  0.1176,  ...,  0.0771, -0.1162, -0.0773],\n",
            "        [-0.0574,  0.0626,  0.1693,  ..., -0.0395, -0.0191,  0.0063],\n",
            "        [ 0.0227, -0.0543,  0.0307,  ...,  0.0406,  0.0233,  0.0700],\n",
            "        ...,\n",
            "        [-0.1012,  0.0050,  0.0559,  ..., -0.0496,  0.0868, -0.0315],\n",
            "        [ 0.0304, -0.0336,  0.0755,  ..., -0.0491, -0.0511,  0.1099],\n",
            "        [ 0.0062,  0.0168,  0.0565,  ..., -0.0710,  0.0644, -0.0386]],\n",
            "       device='cuda:0')), ('rnn.bias_ih_l0_reverse', tensor([-0.0157, -0.1247, -0.1231,  ..., -0.1340, -0.1626, -0.0512],\n",
            "       device='cuda:0')), ('rnn.bias_hh_l0_reverse', tensor([-0.0364, -0.1073, -0.1616,  ..., -0.1590, -0.1601, -0.0197],\n",
            "       device='cuda:0')), ('rnn.weight_ih_l1', tensor([[-0.1012, -0.0215,  0.0846,  ..., -0.0747,  0.0731,  0.0742],\n",
            "        [ 0.0562,  0.0635, -0.0397,  ..., -0.1092,  0.0476,  0.0493],\n",
            "        [ 0.0097, -0.0066, -0.0278,  ..., -0.0584, -0.0530, -0.0220],\n",
            "        ...,\n",
            "        [ 0.0324,  0.0162,  0.0967,  ..., -0.0456,  0.0105,  0.0728],\n",
            "        [-0.0209,  0.0533,  0.0111,  ..., -0.0163,  0.0322, -0.0738],\n",
            "        [-0.1087,  0.0404,  0.1300,  ..., -0.0026, -0.0870,  0.0625]],\n",
            "       device='cuda:0')), ('rnn.weight_hh_l1', tensor([[ 0.0249,  0.0153, -0.0431,  ..., -0.0362,  0.0160, -0.0920],\n",
            "        [-0.0061,  0.0485, -0.0156,  ...,  0.0332, -0.0446,  0.0309],\n",
            "        [-0.0033,  0.0206,  0.0001,  ..., -0.0308, -0.0389,  0.0008],\n",
            "        ...,\n",
            "        [-0.0261,  0.0164,  0.0055,  ...,  0.0007,  0.0662,  0.0902],\n",
            "        [ 0.0407,  0.0404, -0.0028,  ...,  0.0221,  0.0247,  0.0742],\n",
            "        [ 0.0036,  0.0038, -0.0248,  ..., -0.0461, -0.0444,  0.0286]],\n",
            "       device='cuda:0')), ('rnn.bias_ih_l1', tensor([-0.0941, -0.0798, -0.0610,  ..., -0.0490, -0.1430, -0.0724],\n",
            "       device='cuda:0')), ('rnn.bias_hh_l1', tensor([-0.1255, -0.0553, -0.1188,  ..., -0.1074, -0.1223, -0.0490],\n",
            "       device='cuda:0')), ('rnn.weight_ih_l1_reverse', tensor([[ 0.2032,  0.0462,  0.0840,  ..., -0.1804,  0.0209, -0.0247],\n",
            "        [-0.0425,  0.0096,  0.0666,  ..., -0.0704,  0.0860,  0.1350],\n",
            "        [-0.0120,  0.0496, -0.0522,  ..., -0.1270,  0.0376,  0.0757],\n",
            "        ...,\n",
            "        [-0.0268, -0.0255,  0.0062,  ..., -0.1105, -0.0020, -0.0051],\n",
            "        [ 0.0412, -0.0521, -0.0572,  ...,  0.0212,  0.0584,  0.1188],\n",
            "        [ 0.0170,  0.0674,  0.0075,  ..., -0.1368, -0.0115,  0.0710]],\n",
            "       device='cuda:0')), ('rnn.weight_hh_l1_reverse', tensor([[-1.0590e-01, -9.1178e-02,  8.6683e-02,  ...,  5.3288e-03,\n",
            "          1.0268e-01,  6.2567e-02],\n",
            "        [-2.3048e-01, -1.1624e-01,  4.3244e-02,  ...,  1.7726e-01,\n",
            "          1.0709e-01, -2.7846e-02],\n",
            "        [-2.4082e-02, -5.1431e-02, -4.0148e-02,  ..., -4.2479e-02,\n",
            "          4.8684e-02, -5.2601e-03],\n",
            "        ...,\n",
            "        [ 3.6010e-02,  1.7879e-02, -7.9865e-03,  ..., -4.5601e-03,\n",
            "          1.8150e-02, -1.2626e-02],\n",
            "        [ 5.5453e-03,  2.5664e-02, -3.5205e-02,  ...,  5.5805e-02,\n",
            "         -3.2748e-02, -4.4494e-02],\n",
            "        [-4.4214e-02,  4.9692e-04,  5.4498e-02,  ..., -3.3481e-02,\n",
            "          2.1599e-04, -2.9358e-02]], device='cuda:0')), ('rnn.bias_ih_l1_reverse', tensor([-0.0580, -0.1230, -0.0745,  ..., -0.1724, -0.1656, -0.0724],\n",
            "       device='cuda:0')), ('rnn.bias_hh_l1_reverse', tensor([-0.0930, -0.0891, -0.1108,  ..., -0.2072, -0.1763, -0.0420],\n",
            "       device='cuda:0')), ('rnn.weight_ih_l2', tensor([[-0.0818,  0.0566,  0.0429,  ..., -0.0305,  0.0342, -0.0515],\n",
            "        [-0.0113,  0.0560, -0.0822,  ..., -0.0124, -0.0017, -0.0322],\n",
            "        [-0.0328,  0.0138, -0.0268,  ..., -0.0470,  0.0249, -0.0090],\n",
            "        ...,\n",
            "        [ 0.0115,  0.0032, -0.0428,  ..., -0.0264,  0.0130, -0.0187],\n",
            "        [ 0.0282,  0.0447, -0.0027,  ..., -0.0072,  0.0238, -0.0173],\n",
            "        [ 0.0032,  0.0390,  0.0674,  ...,  0.0583,  0.0861, -0.0287]],\n",
            "       device='cuda:0')), ('rnn.weight_hh_l2', tensor([[ 0.0616,  0.0231, -0.0452,  ...,  0.0109,  0.0407, -0.0241],\n",
            "        [-0.0057, -0.0614,  0.0256,  ..., -0.0283,  0.0093,  0.0657],\n",
            "        [ 0.0944,  0.0389, -0.0064,  ...,  0.0277, -0.0032,  0.0142],\n",
            "        ...,\n",
            "        [-0.0671,  0.0098, -0.0306,  ..., -0.0927, -0.0052, -0.0366],\n",
            "        [-0.0151,  0.0349,  0.0137,  ..., -0.0482, -0.0449,  0.0103],\n",
            "        [ 0.0300,  0.0336,  0.0294,  ..., -0.0251, -0.0062,  0.0319]],\n",
            "       device='cuda:0')), ('rnn.bias_ih_l2', tensor([-0.1640, -0.1852, -0.0852,  ..., -0.0671, -0.0428, -0.1160],\n",
            "       device='cuda:0')), ('rnn.bias_hh_l2', tensor([-0.1507, -0.1963, -0.0594,  ..., -0.0507, -0.0532, -0.0584],\n",
            "       device='cuda:0')), ('rnn.weight_ih_l2_reverse', tensor([[ 0.0444,  0.0193,  0.0013,  ...,  0.0575,  0.0558,  0.0290],\n",
            "        [-0.0672,  0.0071,  0.0025,  ..., -0.0137,  0.0192,  0.0371],\n",
            "        [-0.0425,  0.0546, -0.0638,  ..., -0.0226,  0.0674, -0.0126],\n",
            "        ...,\n",
            "        [ 0.0407,  0.1474, -0.0097,  ..., -0.0357,  0.0755,  0.0446],\n",
            "        [ 0.0489, -0.0354, -0.0356,  ...,  0.0958,  0.0480, -0.0147],\n",
            "        [-0.0151,  0.0532, -0.0246,  ..., -0.0062,  0.0040, -0.0977]],\n",
            "       device='cuda:0')), ('rnn.weight_hh_l2_reverse', tensor([[-0.0422,  0.0327, -0.0188,  ...,  0.0120,  0.0174, -0.0347],\n",
            "        [-0.0145,  0.0126,  0.0426,  ..., -0.0198,  0.0672, -0.0023],\n",
            "        [ 0.0340,  0.0548, -0.0057,  ...,  0.0253,  0.0204, -0.0487],\n",
            "        ...,\n",
            "        [-0.0262,  0.0036,  0.0080,  ..., -0.0397,  0.0413,  0.0352],\n",
            "        [-0.0746,  0.1043, -0.0146,  ..., -0.0526,  0.0734,  0.0010],\n",
            "        [-0.0227,  0.0383,  0.0068,  ..., -0.0222,  0.0489,  0.0168]],\n",
            "       device='cuda:0')), ('rnn.bias_ih_l2_reverse', tensor([-0.0091, -0.0529, -0.0796,  ..., -0.1214, -0.0486, -0.1192],\n",
            "       device='cuda:0')), ('rnn.bias_hh_l2_reverse', tensor([-0.0276, -0.0669, -0.1123,  ..., -0.1611, -0.0596, -0.1562],\n",
            "       device='cuda:0')), ('rnn.weight_ih_l3', tensor([[-0.0144, -0.0158,  0.0192,  ..., -0.0952,  0.0577, -0.0030],\n",
            "        [ 0.0432, -0.0390, -0.0056,  ..., -0.0287,  0.0276, -0.0203],\n",
            "        [-0.0011,  0.0556, -0.0283,  ...,  0.0288,  0.0730, -0.0146],\n",
            "        ...,\n",
            "        [ 0.0580, -0.0126, -0.0350,  ..., -0.0150,  0.0322, -0.0249],\n",
            "        [ 0.0471, -0.0353,  0.0191,  ..., -0.0014, -0.0143, -0.0191],\n",
            "        [ 0.0367, -0.0521,  0.0484,  ..., -0.0284,  0.0504,  0.0152]],\n",
            "       device='cuda:0')), ('rnn.weight_hh_l3', tensor([[ 0.0495, -0.0024, -0.0206,  ..., -0.0404,  0.0364, -0.0081],\n",
            "        [-0.0137, -0.0024, -0.0579,  ...,  0.0263, -0.0214, -0.0097],\n",
            "        [ 0.0457, -0.0959,  0.0698,  ..., -0.0704, -0.0125,  0.0183],\n",
            "        ...,\n",
            "        [ 0.0396, -0.0341,  0.0248,  ..., -0.0472, -0.0092, -0.0077],\n",
            "        [-0.0145,  0.0120, -0.0595,  ..., -0.0299, -0.0124, -0.0169],\n",
            "        [ 0.0306, -0.0229,  0.0081,  ...,  0.0068, -0.0189,  0.0105]],\n",
            "       device='cuda:0')), ('rnn.bias_ih_l3', tensor([-0.0846, -0.1188, -0.1322,  ..., -0.0868, -0.0882, -0.1622],\n",
            "       device='cuda:0')), ('rnn.bias_hh_l3', tensor([-0.0988, -0.1269, -0.1916,  ..., -0.1260, -0.1524, -0.1640],\n",
            "       device='cuda:0')), ('rnn.weight_ih_l3_reverse', tensor([[ 0.0222, -0.0533,  0.0021,  ...,  0.0326, -0.0016,  0.0114],\n",
            "        [ 0.0006, -0.0401,  0.0030,  ...,  0.0817,  0.0470,  0.0485],\n",
            "        [ 0.0416,  0.0047,  0.0303,  ...,  0.0168,  0.1034, -0.0302],\n",
            "        ...,\n",
            "        [-0.0189, -0.0204,  0.0055,  ..., -0.0300,  0.0278,  0.0475],\n",
            "        [ 0.0492,  0.0783, -0.0012,  ...,  0.0211, -0.0035,  0.0359],\n",
            "        [-0.0302,  0.0194,  0.0028,  ..., -0.0121,  0.0638,  0.0488]],\n",
            "       device='cuda:0')), ('rnn.weight_hh_l3_reverse', tensor([[-0.0095, -0.0103,  0.0215,  ..., -0.0249, -0.0151, -0.0178],\n",
            "        [-0.0169,  0.0155, -0.0135,  ..., -0.0056,  0.0428,  0.0255],\n",
            "        [-0.0146,  0.0161,  0.0034,  ..., -0.0035,  0.0200, -0.0339],\n",
            "        ...,\n",
            "        [ 0.0334,  0.0343, -0.0021,  ...,  0.0311, -0.0221, -0.0349],\n",
            "        [ 0.0013,  0.0076, -0.0420,  ...,  0.0372, -0.0278,  0.0220],\n",
            "        [-0.0335, -0.0334,  0.0105,  ..., -0.0183, -0.0056, -0.0263]],\n",
            "       device='cuda:0')), ('rnn.bias_ih_l3_reverse', tensor([-0.1142, -0.1898, -0.1548,  ..., -0.2181, -0.1503,  0.0041],\n",
            "       device='cuda:0')), ('rnn.bias_hh_l3_reverse', tensor([-0.0961, -0.1327, -0.1711,  ..., -0.1668, -0.1316, -0.0268],\n",
            "       device='cuda:0')), ('generator.weight', tensor([[-0.0004, -0.0263,  0.0009,  ...,  0.0067,  0.0131,  0.0466],\n",
            "        [ 0.0002, -0.0182, -0.0148,  ...,  0.0017,  0.0104, -0.0333]],\n",
            "       device='cuda:0')), ('generator.bias', tensor([-0.0110, -0.0038], device='cuda:0'))]), 'cnn': OrderedDict([('emb.weight', tensor([[ 0.2827, -1.2661,  1.2949,  ..., -0.9592, -0.0728, -1.0231],\n",
            "        [ 0.0782, -0.5841, -0.1814,  ..., -1.6436,  1.4899, -0.5858],\n",
            "        [-0.8308,  0.4054,  0.9259,  ..., -0.8598, -0.2847,  0.8719],\n",
            "        ...,\n",
            "        [-1.5128, -2.1462,  0.3024,  ...,  1.1669, -1.7106,  1.1168],\n",
            "        [-0.4399, -1.3434, -0.7336,  ...,  0.5288,  0.1622,  0.1412],\n",
            "        [-1.2613, -1.0615,  0.0169,  ...,  0.5843,  2.3236,  0.5650]],\n",
            "       device='cuda:0')), ('feature_extractors.0.0.weight', tensor([[[[ 8.6662e-02,  9.8232e-02, -1.2735e-01,  ...,  8.9805e-02,\n",
            "           -3.8704e-02,  2.5948e-03],\n",
            "          [ 1.5007e-02, -3.6382e-02,  6.7545e-03,  ...,  8.4474e-03,\n",
            "           -7.1853e-02, -2.4958e-02],\n",
            "          [ 9.8917e-02,  1.2994e-02,  1.1675e-02,  ...,  2.4890e-02,\n",
            "            6.9771e-02, -3.4282e-02]]],\n",
            "\n",
            "\n",
            "        [[[-3.4618e-02,  1.5422e-02,  2.5198e-02,  ...,  1.8485e-02,\n",
            "            1.0509e-02, -5.3328e-02],\n",
            "          [ 1.2957e-02, -3.3066e-02,  4.2645e-02,  ...,  4.9962e-02,\n",
            "            1.8464e-02, -5.5733e-03],\n",
            "          [ 8.9191e-02,  1.4326e-02,  2.2961e-02,  ..., -2.6931e-02,\n",
            "           -5.5758e-02,  6.3332e-02]]],\n",
            "\n",
            "\n",
            "        [[[ 9.5998e-02, -6.7840e-02,  7.0170e-02,  ..., -1.2218e-01,\n",
            "           -1.6914e-02, -4.2268e-02],\n",
            "          [-6.1043e-02,  4.6650e-02,  7.4897e-03,  ..., -9.1479e-02,\n",
            "            2.0228e-02,  4.2724e-02],\n",
            "          [-1.0174e-02,  6.7677e-02,  4.4680e-02,  ...,  3.0767e-02,\n",
            "            2.9374e-02,  7.8968e-02]]],\n",
            "\n",
            "\n",
            "        ...,\n",
            "\n",
            "\n",
            "        [[[ 1.0264e-01,  1.0341e-01, -2.4773e-02,  ..., -3.8521e-02,\n",
            "            6.8468e-03, -1.0900e-01],\n",
            "          [ 3.2031e-02, -2.5094e-02, -8.3928e-02,  ...,  6.8414e-02,\n",
            "           -5.2698e-02, -6.7339e-02],\n",
            "          [-2.1298e-03, -1.6000e-02, -6.1284e-02,  ...,  1.9029e-02,\n",
            "            4.9138e-02,  8.1231e-05]]],\n",
            "\n",
            "\n",
            "        [[[ 8.4079e-03, -1.1544e-01, -5.1161e-02,  ...,  4.8680e-02,\n",
            "            1.2006e-02, -2.2847e-02],\n",
            "          [-4.0581e-03,  7.7916e-02, -3.2609e-02,  ..., -6.3015e-03,\n",
            "           -3.2419e-02, -5.0997e-02],\n",
            "          [-2.9450e-02,  1.3350e-02,  7.3363e-03,  ...,  1.2844e-02,\n",
            "           -1.0993e-02,  4.6495e-02]]],\n",
            "\n",
            "\n",
            "        [[[-9.2896e-03,  9.8653e-02, -3.6406e-02,  ...,  6.9885e-02,\n",
            "            3.2259e-02,  6.1693e-03],\n",
            "          [-2.8307e-03,  5.5734e-02, -4.8421e-02,  ..., -3.3388e-02,\n",
            "            1.1734e-02, -1.5163e-02],\n",
            "          [ 3.0801e-02, -7.0210e-03, -4.3774e-02,  ...,  2.1403e-02,\n",
            "            2.8505e-02, -2.1308e-02]]]], device='cuda:0')), ('feature_extractors.0.0.bias', tensor([-0.0559, -0.0902, -0.0936, -0.0868, -0.0735, -0.0708, -0.0207, -0.0779,\n",
            "        -0.0344, -0.0524, -0.0373, -0.0564, -0.0732, -0.0793, -0.1135, -0.0303,\n",
            "        -0.1046, -0.1789,  0.0054, -0.0271, -0.0322, -0.0745, -0.0747, -0.0292,\n",
            "        -0.0846, -0.0744, -0.1035, -0.0316, -0.1039, -0.0286, -0.0163, -0.0414,\n",
            "        -0.0586, -0.0478, -0.0099, -0.0375, -0.0532, -0.1050, -0.0260, -0.0447,\n",
            "        -0.0350, -0.0593, -0.0841, -0.0106, -0.0060, -0.0562, -0.1739, -0.0344,\n",
            "        -0.0124, -0.1137, -0.0617, -0.0925, -0.0668, -0.0702, -0.0276, -0.0518,\n",
            "        -0.0477, -0.0592, -0.0165, -0.0807, -0.0511, -0.0827, -0.0941, -0.1321,\n",
            "        -0.0477, -0.0124, -0.0536, -0.0690, -0.0388, -0.0440, -0.0164, -0.0951,\n",
            "        -0.0400, -0.0383, -0.0360, -0.0538, -0.0363, -0.0469, -0.0381, -0.0489,\n",
            "        -0.0772, -0.1246, -0.1049, -0.0745, -0.0559,  0.0127, -0.0476, -0.0006,\n",
            "        -0.0842, -0.0643, -0.0449, -0.0432, -0.0178, -0.0641, -0.0155, -0.0756,\n",
            "        -0.1567, -0.0073, -0.0403, -0.0446, -0.0540, -0.1080, -0.0810, -0.0654,\n",
            "        -0.0612, -0.0592, -0.0202, -0.0634, -0.0704, -0.0090, -0.0826, -0.1483,\n",
            "        -0.0159, -0.0074, -0.1160, -0.1737, -0.1797, -0.0822, -0.0691, -0.0305,\n",
            "        -0.0321, -0.0539, -0.0502, -0.0508, -0.0789, -0.0888, -0.1354, -0.0864],\n",
            "       device='cuda:0')), ('feature_extractors.1.0.weight', tensor([[[[ 3.5582e-02, -1.3366e-02, -8.0051e-02,  ..., -6.4761e-03,\n",
            "            7.9872e-02,  3.0687e-02],\n",
            "          [ 3.6504e-02,  4.3037e-02, -4.9158e-02,  ...,  6.0673e-02,\n",
            "            1.0565e-02, -9.3808e-03],\n",
            "          [ 2.3202e-02,  4.4793e-02, -3.2118e-02,  ...,  1.8469e-02,\n",
            "            7.4309e-02,  2.2724e-02],\n",
            "          [ 1.5751e-02,  4.6456e-02, -1.7323e-02,  ..., -3.9940e-02,\n",
            "           -2.1360e-02,  6.9138e-02]]],\n",
            "\n",
            "\n",
            "        [[[-8.8200e-03,  2.2761e-02, -1.9120e-02,  ..., -7.8668e-03,\n",
            "            2.9019e-02, -3.9624e-03],\n",
            "          [ 2.9590e-02,  4.5247e-02, -5.7937e-03,  ...,  6.0047e-02,\n",
            "           -8.2678e-03,  8.3645e-04],\n",
            "          [ 2.7165e-02,  3.7259e-03,  2.8071e-02,  ...,  2.0232e-02,\n",
            "           -2.8436e-02, -9.1809e-03],\n",
            "          [-4.4490e-02,  6.7596e-02, -5.5343e-03,  ...,  2.5039e-02,\n",
            "            3.8237e-02, -1.1625e-02]]],\n",
            "\n",
            "\n",
            "        [[[ 7.7658e-02, -1.1849e-02,  9.6150e-03,  ...,  1.4270e-02,\n",
            "           -7.0285e-02,  2.8074e-03],\n",
            "          [-6.6465e-02, -1.8745e-02, -1.1423e-02,  ..., -5.5634e-02,\n",
            "            2.8281e-02,  3.9292e-02],\n",
            "          [ 3.8953e-02,  2.0588e-02, -5.5025e-02,  ...,  5.4918e-02,\n",
            "           -2.1406e-02, -7.3682e-03],\n",
            "          [-5.1836e-03, -1.1928e-02, -3.3554e-03,  ..., -1.7080e-02,\n",
            "           -5.1658e-02,  1.8139e-03]]],\n",
            "\n",
            "\n",
            "        ...,\n",
            "\n",
            "\n",
            "        [[[-2.5282e-02,  3.0603e-03,  9.7832e-02,  ...,  2.6841e-02,\n",
            "            2.5491e-02, -6.5704e-02],\n",
            "          [ 1.1664e-02,  8.4826e-03,  4.9882e-02,  ...,  2.9064e-02,\n",
            "            4.0662e-02, -2.5984e-02],\n",
            "          [-2.8306e-02,  1.3873e-02, -6.0210e-02,  ..., -1.0153e-02,\n",
            "            1.0658e-02,  1.0989e-05],\n",
            "          [ 3.1357e-02,  1.1887e-02,  2.6616e-02,  ..., -2.3342e-02,\n",
            "            2.3330e-02, -7.5018e-03]]],\n",
            "\n",
            "\n",
            "        [[[-8.8384e-03, -5.0309e-02,  1.6726e-02,  ..., -2.9794e-02,\n",
            "            2.1731e-02, -1.4072e-02],\n",
            "          [ 2.2282e-02, -1.6788e-02, -3.0660e-03,  ...,  1.3524e-02,\n",
            "            5.2910e-03, -2.0273e-02],\n",
            "          [-1.8380e-02,  2.6894e-02, -2.2768e-02,  ...,  4.2939e-03,\n",
            "            8.7162e-02,  1.2133e-02],\n",
            "          [-5.4178e-02, -7.4244e-02,  2.4327e-02,  ...,  3.1904e-02,\n",
            "            2.4611e-02,  2.9389e-02]]],\n",
            "\n",
            "\n",
            "        [[[ 1.4930e-02,  3.7710e-02, -1.0689e-01,  ..., -4.3790e-02,\n",
            "            3.9000e-02, -1.7749e-02],\n",
            "          [-9.6387e-03, -2.6187e-02,  2.5439e-02,  ..., -3.1410e-03,\n",
            "            3.0094e-02, -5.3756e-02],\n",
            "          [-2.1354e-02,  1.8425e-02, -4.8899e-02,  ..., -2.7919e-02,\n",
            "            5.1435e-02,  1.9239e-02],\n",
            "          [-9.1603e-03,  3.1163e-02,  3.4299e-02,  ...,  8.1397e-03,\n",
            "           -5.8311e-02, -1.9368e-02]]]], device='cuda:0')), ('feature_extractors.1.0.bias', tensor([-0.1316, -0.0759, -0.0499, -0.0357, -0.0542, -0.2768, -0.0650, -0.0475,\n",
            "        -0.1495, -0.0042, -0.0386, -0.0925, -0.0421, -0.0563, -0.0507, -0.0747,\n",
            "        -0.1652, -0.0618, -0.1184, -0.0697, -0.0536, -0.1241, -0.0491, -0.1209,\n",
            "        -0.0776, -0.0429, -0.0569, -0.0095, -0.0944, -0.0361, -0.0452, -0.0384,\n",
            "        -0.0608, -0.0617, -0.0655, -0.0975, -0.0743, -0.1286, -0.1012, -0.1285,\n",
            "        -0.0703, -0.2663, -0.0285, -0.0775, -0.2535, -0.0436, -0.0452, -0.1192,\n",
            "        -0.0909, -0.0611, -0.0416, -0.0290, -0.2171, -0.0758, -0.1070, -0.1189,\n",
            "        -0.0260, -0.0157, -0.0321, -0.0522, -0.0606, -0.0836, -0.1189, -0.0714,\n",
            "        -0.0712, -0.0685, -0.0402, -0.1003, -0.1026, -0.0700, -0.0771, -0.1183,\n",
            "        -0.0428, -0.0056, -0.0858, -0.0662, -0.0768, -0.1040, -0.0346, -0.0368,\n",
            "        -0.0497, -0.0571, -0.0497, -0.0486, -0.0601, -0.0436, -0.0350, -0.0982,\n",
            "        -0.0724, -0.0452, -0.0529, -0.1243, -0.0193, -0.0721, -0.1343, -0.0819,\n",
            "        -0.2204, -0.0807, -0.0487, -0.0730, -0.0689, -0.0451, -0.1336, -0.1389,\n",
            "        -0.0564, -0.0450, -0.1433, -0.1078, -0.0432, -0.1099, -0.0542, -0.0622,\n",
            "        -0.1031, -0.1065, -0.0251, -0.1235, -0.0796, -0.0152, -0.0805, -0.0236,\n",
            "        -0.1906, -0.0639, -0.0510, -0.0654, -0.2322, -0.0829, -0.1125, -0.0215],\n",
            "       device='cuda:0')), ('feature_extractors.2.0.weight', tensor([[[[ 4.4485e-03,  2.4641e-02,  9.9205e-03,  ...,  3.5756e-02,\n",
            "            9.0302e-03, -3.9598e-02],\n",
            "          [ 1.6160e-02,  4.8796e-02,  4.6110e-02,  ...,  1.5377e-02,\n",
            "           -1.0909e-02, -3.7735e-03],\n",
            "          [ 9.2148e-03,  5.5706e-02, -2.1466e-03,  ..., -1.5805e-02,\n",
            "            1.8049e-02, -7.7730e-03],\n",
            "          [-1.7493e-03,  5.8465e-02, -3.1804e-02,  ..., -3.7416e-02,\n",
            "            5.6679e-04,  2.9206e-02],\n",
            "          [-2.3667e-02, -3.1889e-03, -8.8460e-03,  ...,  5.8941e-02,\n",
            "           -4.3140e-02,  3.8131e-03]]],\n",
            "\n",
            "\n",
            "        [[[-9.9606e-03,  1.5779e-02, -5.3863e-02,  ...,  6.5690e-02,\n",
            "            1.3810e-02, -2.6534e-02],\n",
            "          [-2.9530e-02,  1.1935e-02,  1.3912e-02,  ...,  1.0676e-02,\n",
            "           -1.0183e-02,  2.9762e-02],\n",
            "          [-1.9630e-03, -2.7027e-02, -4.0799e-02,  ..., -2.3824e-02,\n",
            "            8.9229e-03,  5.1586e-03],\n",
            "          [ 8.4828e-03, -1.9782e-02, -2.7781e-02,  ...,  3.3534e-02,\n",
            "            1.3558e-02,  1.6887e-02],\n",
            "          [ 4.5778e-02, -1.7559e-03,  2.8606e-02,  ...,  4.4630e-02,\n",
            "           -2.8275e-02,  7.5404e-02]]],\n",
            "\n",
            "\n",
            "        [[[-1.3608e-02,  2.7074e-02,  3.3982e-02,  ...,  1.0175e-02,\n",
            "            1.4465e-02, -2.5150e-02],\n",
            "          [ 1.1847e-02, -4.5558e-03,  3.3485e-03,  ..., -2.5239e-02,\n",
            "           -1.6659e-02, -1.3782e-02],\n",
            "          [ 5.3716e-03,  5.9917e-02,  3.9035e-02,  ...,  2.7769e-02,\n",
            "            1.1189e-02, -1.1714e-02],\n",
            "          [ 9.8487e-03,  6.2451e-03,  2.2128e-02,  ...,  9.1752e-02,\n",
            "            1.9577e-03,  5.3693e-02],\n",
            "          [-2.2587e-02,  3.8381e-02, -4.7193e-02,  ...,  4.7524e-02,\n",
            "           -3.6927e-02,  5.7630e-02]]],\n",
            "\n",
            "\n",
            "        ...,\n",
            "\n",
            "\n",
            "        [[[-6.1493e-02,  2.3445e-02, -3.0139e-02,  ...,  4.4316e-02,\n",
            "            1.4967e-02, -5.4940e-02],\n",
            "          [ 2.5441e-02,  1.9322e-02, -2.8937e-02,  ..., -2.7666e-02,\n",
            "           -2.5242e-03,  1.5480e-03],\n",
            "          [-2.5001e-02,  4.2468e-02,  7.4556e-03,  ...,  1.3000e-02,\n",
            "            3.4589e-02, -1.2379e-02],\n",
            "          [-5.3751e-02,  4.0287e-02, -2.3870e-03,  ..., -1.3291e-03,\n",
            "            5.4713e-02,  2.3523e-02],\n",
            "          [ 2.7407e-02, -1.8938e-02, -9.0354e-03,  ..., -9.3979e-03,\n",
            "           -6.1376e-02,  1.9832e-02]]],\n",
            "\n",
            "\n",
            "        [[[-1.3822e-02,  1.8932e-02, -1.3065e-02,  ..., -3.3731e-02,\n",
            "            1.0922e-02,  1.8696e-02],\n",
            "          [ 6.8238e-02, -1.8151e-02,  4.7906e-03,  ..., -3.9640e-02,\n",
            "            4.9415e-02,  1.2229e-05],\n",
            "          [ 1.1250e-02, -4.2251e-02,  2.6394e-02,  ..., -3.2140e-03,\n",
            "            3.2239e-02,  6.2139e-02],\n",
            "          [ 2.4786e-02, -2.2281e-02,  2.1818e-02,  ...,  8.5315e-02,\n",
            "           -1.7605e-02, -1.9495e-02],\n",
            "          [ 1.1496e-02, -2.1532e-02,  2.1447e-02,  ..., -2.2405e-02,\n",
            "            4.2916e-02, -4.9937e-03]]],\n",
            "\n",
            "\n",
            "        [[[ 9.4125e-02, -2.0343e-02,  2.3346e-02,  ..., -3.1339e-02,\n",
            "           -2.6306e-02,  4.3060e-02],\n",
            "          [-3.3216e-03, -1.8923e-02, -3.5377e-03,  ..., -3.4439e-02,\n",
            "           -2.7127e-02,  2.3638e-02],\n",
            "          [-8.0027e-03, -7.6163e-03, -2.1370e-02,  ..., -7.5236e-03,\n",
            "           -1.7612e-02, -1.3032e-02],\n",
            "          [-2.4215e-02, -1.4706e-02,  5.8379e-02,  ...,  1.5290e-02,\n",
            "           -1.0448e-02, -3.8191e-02],\n",
            "          [ 2.3140e-02,  9.0387e-03,  1.8116e-02,  ..., -8.5313e-03,\n",
            "           -3.3309e-02, -1.4960e-02]]]], device='cuda:0')), ('feature_extractors.2.0.bias', tensor([-0.0144, -0.1064, -0.0823, -0.0108, -0.0486, -0.0111, -0.1729, -0.1101,\n",
            "        -0.1709, -0.0647, -0.1074, -0.0889, -0.0384, -0.0545, -0.0525, -0.0347,\n",
            "        -0.0648, -0.0601, -0.0510, -0.1154, -0.0744, -0.0319, -0.0339, -0.0244,\n",
            "        -0.0178, -0.1271, -0.0821, -0.0925, -0.1718, -0.0469, -0.2528, -0.1664,\n",
            "        -0.0493, -0.1303, -0.0672, -0.0723, -0.0379, -0.0829, -0.0551, -0.0259,\n",
            "        -0.0615, -0.2033, -0.0320, -0.0555, -0.0381, -0.0385, -0.0636, -0.0663,\n",
            "        -0.0914, -0.0512, -0.0909, -0.1703, -0.0701, -0.0218, -0.0723, -0.1442,\n",
            "        -0.0913, -0.0699, -0.0530, -0.0447, -0.0904, -0.1050, -0.0816, -0.0481,\n",
            "        -0.0335, -0.0189, -0.0804, -0.0639, -0.0592, -0.0929, -0.0498, -0.0531,\n",
            "        -0.1032, -0.0542, -0.0686, -0.0349, -0.0294, -0.1053, -0.0593, -0.0953,\n",
            "        -0.0942, -0.2224, -0.2262, -0.0688, -0.0632, -0.0553, -0.0544, -0.0261,\n",
            "        -0.1034, -0.0275, -0.2843, -0.0991, -0.0750, -0.0429, -0.0575, -0.0718,\n",
            "        -0.1296, -0.1411, -0.0853, -0.0366, -0.0432, -0.0455, -0.0514, -0.1697,\n",
            "        -0.0515, -0.0326, -0.1722, -0.0445, -0.0509, -0.1808, -0.1170, -0.0931,\n",
            "        -0.0474, -0.0494, -0.0389, -0.0473, -0.0525, -0.0874, -0.1413, -0.0155,\n",
            "        -0.0686, -0.0438, -0.0572, -0.0240, -0.2180, -0.0576, -0.1108, -0.0482],\n",
            "       device='cuda:0')), ('feature_extractors.3.0.weight', tensor([[[[ 0.0213, -0.0185,  0.0492,  ..., -0.0064, -0.0144, -0.0264],\n",
            "          [-0.0185, -0.0283, -0.0436,  ...,  0.0451,  0.0076,  0.0228],\n",
            "          [-0.0142, -0.0173,  0.0392,  ...,  0.0380, -0.0235,  0.0283],\n",
            "          [-0.0073,  0.0195,  0.0169,  ...,  0.0850, -0.0845, -0.0864],\n",
            "          [ 0.0051, -0.0127, -0.0609,  ...,  0.0085,  0.0636, -0.0199],\n",
            "          [ 0.0375, -0.0215, -0.0762,  ...,  0.0400, -0.0040,  0.0512]]],\n",
            "\n",
            "\n",
            "        [[[ 0.0035, -0.0481, -0.0602,  ...,  0.0771,  0.0421, -0.0466],\n",
            "          [-0.0086, -0.0319,  0.0061,  ..., -0.0494, -0.0375,  0.0852],\n",
            "          [ 0.0360, -0.0385,  0.0292,  ..., -0.0155, -0.0652,  0.0617],\n",
            "          [ 0.0299,  0.0333, -0.0284,  ...,  0.0261,  0.0078, -0.0094],\n",
            "          [-0.0353, -0.0345,  0.0354,  ...,  0.0112,  0.0155, -0.0222],\n",
            "          [ 0.0537,  0.0013,  0.0049,  ..., -0.0127,  0.0114, -0.0283]]],\n",
            "\n",
            "\n",
            "        [[[ 0.0339,  0.0032, -0.0038,  ..., -0.0379,  0.0205,  0.0154],\n",
            "          [ 0.0759,  0.0163, -0.0547,  ..., -0.0229, -0.0169,  0.0082],\n",
            "          [ 0.0223, -0.0133, -0.0199,  ...,  0.0652, -0.0158,  0.0193],\n",
            "          [ 0.0387, -0.0113, -0.0149,  ..., -0.0062,  0.0169,  0.0194],\n",
            "          [-0.0015,  0.0200, -0.0153,  ...,  0.0056,  0.0049,  0.0340],\n",
            "          [ 0.0404,  0.0049, -0.0517,  ...,  0.0517,  0.0543,  0.0453]]],\n",
            "\n",
            "\n",
            "        ...,\n",
            "\n",
            "\n",
            "        [[[-0.0034,  0.0391,  0.0383,  ..., -0.0449, -0.0257, -0.0002],\n",
            "          [-0.0259, -0.0319,  0.0294,  ..., -0.0108, -0.0247,  0.0279],\n",
            "          [-0.0218,  0.0512, -0.0071,  ...,  0.0272,  0.0138,  0.0197],\n",
            "          [-0.0222, -0.0013, -0.0527,  ...,  0.0190, -0.0178,  0.0163],\n",
            "          [-0.0360, -0.1093,  0.0032,  ...,  0.0125, -0.0312, -0.0205],\n",
            "          [ 0.0556, -0.0169,  0.0505,  ...,  0.0162,  0.0355,  0.0143]]],\n",
            "\n",
            "\n",
            "        [[[-0.0329,  0.0074,  0.0388,  ..., -0.0609, -0.0512, -0.0562],\n",
            "          [ 0.0734, -0.0686,  0.0063,  ..., -0.0198,  0.0406, -0.0030],\n",
            "          [-0.0582, -0.0448,  0.0708,  ..., -0.0378,  0.0384, -0.0130],\n",
            "          [ 0.0989, -0.0199,  0.0522,  ..., -0.0415,  0.0634, -0.0340],\n",
            "          [ 0.0572, -0.0506,  0.0138,  ...,  0.0505,  0.0236,  0.0241],\n",
            "          [ 0.0093,  0.0538,  0.0188,  ...,  0.0426, -0.1211, -0.0330]]],\n",
            "\n",
            "\n",
            "        [[[ 0.0141, -0.0051,  0.0015,  ..., -0.0143,  0.1009,  0.0241],\n",
            "          [-0.0323,  0.0052, -0.0039,  ...,  0.0206, -0.0019, -0.0098],\n",
            "          [ 0.0222,  0.0372, -0.0011,  ..., -0.0660, -0.0123,  0.0455],\n",
            "          [ 0.0131, -0.0088, -0.0463,  ..., -0.0283,  0.0173, -0.0345],\n",
            "          [ 0.0471, -0.0630, -0.0246,  ...,  0.0362,  0.0167, -0.0196],\n",
            "          [ 0.0259, -0.0238,  0.1486,  ...,  0.0439, -0.0535, -0.0299]]]],\n",
            "       device='cuda:0')), ('feature_extractors.3.0.bias', tensor([-0.0553, -0.0543, -0.0905, -0.0553, -0.0596, -0.0598, -0.0513, -0.0643,\n",
            "        -0.0754, -0.2297, -0.0262, -0.0446, -0.0471, -0.1349, -0.0220, -0.0815,\n",
            "        -0.0395, -0.0486, -0.0705, -0.0567, -0.1097, -0.0739, -0.2180, -0.0483,\n",
            "        -0.0896, -0.2123, -0.0629, -0.0489, -0.0667, -0.0519, -0.0276, -0.1957,\n",
            "        -0.1131, -0.0829, -0.0998, -0.0593, -0.1600, -0.1068, -0.0474, -0.0368,\n",
            "        -0.1248, -0.1053, -0.0495, -0.0935, -0.0855, -0.0678, -0.0235, -0.0950,\n",
            "        -0.1348, -0.1101, -0.0451, -0.0723, -0.0884, -0.0090, -0.0882, -0.0915,\n",
            "        -0.0422, -0.1097, -0.1178, -0.0562, -0.0152, -0.1203, -0.0416, -0.2145,\n",
            "        -0.0742, -0.1987, -0.0944, -0.1783, -0.0513, -0.1173, -0.0849, -0.0778,\n",
            "        -0.0545, -0.1596, -0.1268, -0.1021, -0.0647, -0.0403, -0.0983, -0.0398,\n",
            "        -0.0255, -0.0103, -0.0817, -0.2044, -0.1783, -0.0610, -0.1296, -0.0348,\n",
            "        -0.0329, -0.0108, -0.0512, -0.0429, -0.0810, -0.1775, -0.0919, -0.0507,\n",
            "        -0.0222, -0.0464, -0.0572, -0.1310, -0.0663, -0.1348, -0.0736, -0.1817,\n",
            "        -0.1496, -0.0583, -0.2214, -0.0877, -0.0980, -0.0216, -0.0419, -0.0654,\n",
            "        -0.1050, -0.0548, -0.0526, -0.0881, -0.0636, -0.0908, -0.2394, -0.0464,\n",
            "        -0.0140, -0.0195, -0.0368, -0.1912, -0.0715, -0.0347, -0.1667, -0.1115],\n",
            "       device='cuda:0')), ('feature_extractors.4.0.weight', tensor([[[[ 0.0273, -0.0648, -0.0140,  ..., -0.0004,  0.0501,  0.0614],\n",
            "          [-0.0180,  0.0598,  0.0058,  ..., -0.0135, -0.0009, -0.0506],\n",
            "          [-0.0148,  0.0660, -0.0255,  ...,  0.0194, -0.1308,  0.0397],\n",
            "          ...,\n",
            "          [-0.0205, -0.0149, -0.0432,  ...,  0.0079,  0.0162,  0.0458],\n",
            "          [ 0.0449, -0.0594, -0.0095,  ..., -0.0267,  0.0753, -0.0523],\n",
            "          [-0.0354, -0.0023, -0.0679,  ..., -0.0101,  0.0347, -0.0158]]],\n",
            "\n",
            "\n",
            "        [[[ 0.0309, -0.0123,  0.0146,  ...,  0.0216,  0.0555, -0.0863],\n",
            "          [ 0.0009,  0.0291, -0.0592,  ...,  0.0081, -0.0547,  0.0199],\n",
            "          [-0.0089,  0.0320,  0.0150,  ..., -0.0236,  0.0639,  0.0236],\n",
            "          ...,\n",
            "          [ 0.0096, -0.0389,  0.0676,  ..., -0.0245,  0.0386,  0.0447],\n",
            "          [ 0.0407,  0.0302,  0.0555,  ...,  0.0055,  0.0118,  0.0217],\n",
            "          [-0.0614, -0.0068, -0.0363,  ...,  0.0218,  0.0160,  0.0128]]],\n",
            "\n",
            "\n",
            "        [[[ 0.0450, -0.0286, -0.0742,  ..., -0.0077, -0.0416, -0.0263],\n",
            "          [ 0.0252, -0.0852,  0.0067,  ...,  0.0411,  0.0454,  0.0484],\n",
            "          [ 0.0090,  0.0212,  0.0546,  ...,  0.0427, -0.0448, -0.0058],\n",
            "          ...,\n",
            "          [-0.0045, -0.0733, -0.0305,  ..., -0.0058,  0.0086, -0.0523],\n",
            "          [-0.0454, -0.0571,  0.0014,  ...,  0.0641,  0.0176, -0.0205],\n",
            "          [ 0.0672,  0.0596, -0.0030,  ..., -0.0814, -0.0227, -0.0279]]],\n",
            "\n",
            "\n",
            "        ...,\n",
            "\n",
            "\n",
            "        [[[-0.0089, -0.0513, -0.0354,  ...,  0.0484, -0.0263,  0.0107],\n",
            "          [ 0.0169,  0.0200, -0.0193,  ..., -0.0188,  0.0193, -0.0006],\n",
            "          [-0.0263,  0.0127, -0.0411,  ..., -0.0193, -0.0246,  0.0509],\n",
            "          ...,\n",
            "          [-0.0169, -0.0122,  0.0124,  ...,  0.0310,  0.0190,  0.0097],\n",
            "          [ 0.0006,  0.0163,  0.0647,  ..., -0.0034,  0.0178, -0.0003],\n",
            "          [ 0.0456, -0.0023,  0.0496,  ..., -0.0110, -0.0004,  0.0007]]],\n",
            "\n",
            "\n",
            "        [[[-0.0275, -0.0143, -0.0451,  ...,  0.0204, -0.0221, -0.0214],\n",
            "          [ 0.0501, -0.0107,  0.0026,  ..., -0.0136, -0.0227,  0.0494],\n",
            "          [ 0.0537, -0.0242,  0.0278,  ..., -0.0283,  0.0084,  0.0023],\n",
            "          ...,\n",
            "          [ 0.0708,  0.0150, -0.0155,  ...,  0.0051,  0.0139,  0.0308],\n",
            "          [-0.0264,  0.0090, -0.0203,  ..., -0.0069, -0.0218, -0.0120],\n",
            "          [ 0.0175, -0.0124,  0.0402,  ...,  0.0441,  0.0290, -0.0127]]],\n",
            "\n",
            "\n",
            "        [[[ 0.0554, -0.0594,  0.0285,  ..., -0.0359,  0.0056, -0.0203],\n",
            "          [ 0.0085, -0.0162, -0.0153,  ...,  0.0325,  0.0494,  0.0580],\n",
            "          [-0.0334, -0.0521, -0.0264,  ...,  0.0155,  0.0269,  0.0387],\n",
            "          ...,\n",
            "          [ 0.0261, -0.0468, -0.0238,  ..., -0.0536, -0.0282,  0.0066],\n",
            "          [-0.0276, -0.0463, -0.0215,  ..., -0.0076,  0.0703,  0.0088],\n",
            "          [ 0.0235,  0.0338, -0.0352,  ...,  0.0120,  0.0188, -0.0322]]]],\n",
            "       device='cuda:0')), ('feature_extractors.4.0.bias', tensor([-0.0324, -0.0482, -0.0796, -0.1107, -0.0415, -0.0436, -0.0543, -0.1023,\n",
            "        -0.1349, -0.0758, -0.0334, -0.1504, -0.0359, -0.0717, -0.0583, -0.0620,\n",
            "        -0.1325, -0.0633, -0.1676, -0.0511, -0.0587, -0.1092, -0.0976, -0.1278,\n",
            "        -0.0559, -0.0138, -0.0569, -0.0316, -0.1360, -0.0324, -0.0565, -0.0458,\n",
            "        -0.1235, -0.0587, -0.0626, -0.0417, -0.0798, -0.0471, -0.0897, -0.1460,\n",
            "        -0.0537, -0.0500, -0.1448, -0.0588, -0.0432, -0.0905, -0.0623, -0.0331,\n",
            "        -0.0344, -0.0550, -0.1098, -0.0522, -0.0348, -0.1550, -0.0602, -0.1111,\n",
            "        -0.0984, -0.0658, -0.1626, -0.1248, -0.1717, -0.0810, -0.0402, -0.1397,\n",
            "        -0.0263, -0.0187, -0.0467, -0.0516, -0.1274, -0.1731, -0.0472, -0.0730,\n",
            "        -0.0750, -0.0278, -0.1194, -0.1436, -0.1327, -0.0532, -0.1793, -0.1220,\n",
            "        -0.0849, -0.2294, -0.2247, -0.0224, -0.0347, -0.0720, -0.0511, -0.0837,\n",
            "        -0.0498, -0.0152, -0.0391, -0.0446, -0.0577, -0.0345, -0.1085, -0.0705,\n",
            "        -0.0437, -0.0321, -0.0679, -0.0207, -0.0504, -0.0856, -0.1029, -0.0761,\n",
            "        -0.0473, -0.0498, -0.0540, -0.1140, -0.0809, -0.0758, -0.0368, -0.0548,\n",
            "        -0.1150, -0.0797, -0.1248, -0.0895, -0.1062, -0.1060, -0.0496, -0.0587,\n",
            "        -0.1595, -0.0474, -0.0230, -0.0864, -0.1551, -0.0420, -0.0852, -0.0622],\n",
            "       device='cuda:0')), ('generator.weight', tensor([[ 0.0097,  0.0005,  0.0253,  ..., -0.0160, -0.0206, -0.0069],\n",
            "        [ 0.0329,  0.0325, -0.0106,  ...,  0.0016, -0.0319, -0.0193]],\n",
            "       device='cuda:0')), ('generator.bias', tensor([-0.0431,  0.0441], device='cuda:0'))]), 'config': Namespace(model_fn='./result_model/ensemble_model.20250130_184448.pth', train_fn='./data/review.sorted.refined.tok.shuf.train.tsv', gpu_id=0, verbose=2, min_vocab_freq=5, max_vocab_size=999999, batch_size=128, n_epochs=10, word_vec_size=256, dropout=0.3, max_length=256, rnn=True, hidden_size=512, n_layers=4, cnn=True, use_batch_norm=False, window_sizes=[3, 4, 5, 6, 7, 8], n_filters=[128, 128, 128, 128, 128]), 'vocab': <torchtext.vocab.Vocab object at 0xd92aa2e2690>, 'classes': <torchtext.vocab.Vocab object at 0xd92a98efd50>}\n",
            "negative\t극좌 빨 영화 살인자 쉴드 노 답 이 다\n",
            "positive\t와 매 장면 장면 마다 명작 이 다 진짜 이거 보 니 우리 나라 의료 보험 체계 에 감사 하 고 또 감사 할 뿐 이 다 .\n",
            "positive\t진짜 DVD 로 만들 어 졌으면 좋 겠 다 . .\n",
            "positive\t엑소 져 앙 ~!! 찬열 이 져 앙 ~\n",
            "negative\t잤 다 10101010\n",
            "negative\t영화 자체 = 내용 연출 전부 깔끔 한 게 없 다 깔끔 한 거 라곤 신하균 칼 솜씨 ; 진짜 재미없 고 지저분 하 다\n",
            "negative\t지루 하 기 짝 이 없 는 쿨 하 지 못한 영화\n",
            "positive\t정말 재밌 었 다 . 현 대판 모세 . .. 실화 이 기 에 뜨겁 다 . 전쟁 의 근본 인 살 기 위해 싸운다는 것 을 처절 하 게 표현 , , , ,\n",
            "negative\t저 포스터 는 울 나라 가 만들 었 나 ? 카피 도 유치 하 다 포스터 에 속 지 말 고 좋 은 영화 보 시 길 ~\n",
            "positive\t역시 스릴 넘치 네요\n",
            "negative\t정말 재미없 어 마지막 1 분 때문 에 4 점 줘야지 . . ㅋㅋ ㅋㅋ\n",
            "positive\t전 정말 재밌 게 봤 습니다 ~ ㅎ 일화 들 도 다 감동 적 이 었 구 ㅜㅜ\n",
            "negative\t좀 비 처음 나올 때 만 괜찮 음 전체 적 으로 느낌 이 간츠 애니 버전 같 았 슴 1 점 주 기 도 아까움\n",
            "negative\t판타지 공포 ! 기술 은 진보 했어도 예전 만 한 걸 작 은 없 는 듯\n",
            "negative\t배우 들 의 연기 는 나쁘 지 않 지만 급조 된 저예산 무비 의 한계 랄까 ? 식상 한 내용 인데 군데군데 개연 성 무너지 는 씬 들 이 많 다\n",
            "negative\t난 지루 하 던데 . .. 불륜 을 미 화 한 기억 상 실증 . ..\n",
            "positive\t후반부 진심 너무 슬프 다\n",
            "negative\t영상 이 이쁘 지만 내용 이 심심\n",
            "negative\t안 봤 는데 리뷰 만 봐도 쓰레기 영화 본 듯 한 ㅋ\n",
            "positive\t몇 번 봤 는데 볼 때 마나 재밌 던데 . .\n"
          ]
        }
      ]
    },
    {
      "cell_type": "code",
      "source": [
        "!bash make_ground_truth.sh"
      ],
      "metadata": {
        "id": "_VQIcfHnb2dV"
      },
      "execution_count": 24,
      "outputs": []
    },
    {
      "cell_type": "code",
      "source": [
        "!bash make_test.sh"
      ],
      "metadata": {
        "id": "Eg9ZRklLe8ri"
      },
      "execution_count": 32,
      "outputs": []
    },
    {
      "cell_type": "code",
      "source": [
        "# Ensemble\n",
        "!python ./get_accuracy.py ./metric/ensemble_model.20250130_184448.pth.result.txt ./metric/ground_truth.result.txt"
      ],
      "metadata": {
        "colab": {
          "base_uri": "https://localhost:8080/"
        },
        "id": "Jk3CdArPhgNQ",
        "outputId": "83d2a2aa-84b4-4504-a262-51281c9b1090"
      },
      "execution_count": 28,
      "outputs": [
        {
          "output_type": "stream",
          "name": "stdout",
          "text": [
            "8789 / 10000 = 0.8789\n"
          ]
        }
      ]
    },
    {
      "cell_type": "code",
      "source": [
        "# CNN\n",
        "!python ./get_accuracy.py ./metric/nsmc.cnn.20250131_074531.pth.result.txt ./metric/ground_truth.result.txt"
      ],
      "metadata": {
        "colab": {
          "base_uri": "https://localhost:8080/"
        },
        "id": "QXu8A15rqMyX",
        "outputId": "3313143b-cd78-4c05-eef0-d1fc3c9cbe90"
      },
      "execution_count": 31,
      "outputs": [
        {
          "output_type": "stream",
          "name": "stdout",
          "text": [
            "8630 / 10000 = 0.8630\n"
          ]
        }
      ]
    },
    {
      "cell_type": "code",
      "source": [
        "# RNN\n",
        "!python ./get_accuracy.py ./metric/nsmc.rnn.20250131_075119.pth.result.txt ./metric/ground_truth.result.txt"
      ],
      "metadata": {
        "colab": {
          "base_uri": "https://localhost:8080/"
        },
        "id": "NHSZnYbPqTL8",
        "outputId": "84452b50-f226-430d-832e-8b8a9164e1ca"
      },
      "execution_count": 34,
      "outputs": [
        {
          "output_type": "stream",
          "name": "stdout",
          "text": [
            "8612 / 10000 = 0.8612\n"
          ]
        }
      ]
    }
  ]
}